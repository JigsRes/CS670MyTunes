{
 "cells": [
  {
   "cell_type": "markdown",
   "metadata": {},
   "source": [
    "# Include all you Packages and Libs here"
   ]
  },
  {
   "cell_type": "code",
   "execution_count": 1,
   "metadata": {
    "collapsed": true
   },
   "outputs": [],
   "source": [
    "#packages and libraries\n",
    "import os,sys\n",
    "from os import listdir\n",
    "import string\n",
    "import re\n",
    "import urllib"
   ]
  },
  {
   "cell_type": "markdown",
   "metadata": {},
   "source": [
    "# Declare all paths/MACROS/globar_var (I strongly suggest dont use global vars)"
   ]
  },
  {
   "cell_type": "code",
   "execution_count": 5,
   "metadata": {
    "collapsed": false
   },
   "outputs": [
    {
     "name": "stdout",
     "output_type": "stream",
     "text": [
      "Done Loading the AoTM data\n"
     ]
    }
   ],
   "source": [
    "#Global Vars and Macros\n",
    "_BASE_DIRECTORY = '/Users/007ri/Miniconda2/envs/onedropcs670/Datasets/AoTM'\n",
    "dirs = os.listdir(_BASE_DIRECTORY)\n",
    "\n",
    "filename = 'aotm_list_ids.txt'\n",
    "currURL = _BASE_DIRECTORY+'/'+filename\n",
    "response = urllib.urlopen(currURL)\n",
    "lines = response.readlines()\n",
    "AOTM_playLists = []\n",
    "for line in lines:\n",
    "    AOTM_playLists += line,\n",
    "print 'Done Loading the AoTM data'"
   ]
  },
  {
   "cell_type": "markdown",
   "metadata": {},
   "source": [
    "# This is the pre-processing of AOTM Dataset [..add more later]"
   ]
  },
  {
   "cell_type": "code",
   "execution_count": 6,
   "metadata": {
    "collapsed": false
   },
   "outputs": [
    {
     "name": "stdout",
     "output_type": "stream",
     "text": [
      "29164\n"
     ]
    }
   ],
   "source": [
    "class playList():\n",
    "    def __init__(self, inPid, inSongsList):\n",
    "        self._pid = inPid # playlist ID\n",
    "        self._songsList = inSongsList #list of tuples of (ArtistID, SongID)\n",
    "    def __str__(self):\n",
    "        strObj = 'ID: '+str(self._pid)+'\\n'\n",
    "        for tup in self._songsList:\n",
    "            strObj += str(tup[0]) + ': '\n",
    "            strObj += str(tup[1]) + '\\n'\n",
    "        return strObj\n",
    "    \n",
    "def cleanNSerializePlaylist(inDataEntry):\n",
    "    ltmp = inDataEntry.split()\n",
    "    playListID = ltmp[0]\n",
    "    ltmp.pop(0)\n",
    "    playListID = re.sub('#', '', playListID)\n",
    "    n = len(ltmp)\n",
    "    songsList = []\n",
    "    for i in xrange(0,n-1,2):\n",
    "        artistid = ltmp[i][:-1]\n",
    "        songid = ltmp[i+1]\n",
    "        tup = (artistid,songid)\n",
    "        songsList.append(tup)\n",
    "    retObj = playList(playListID, songsList)\n",
    "    return retObj\n",
    "\n",
    "#pObj = cleanNSerializePlaylist(temp)\n",
    "#print pObj\n",
    "\n",
    "def reStructureAOTMDataset(inData):\n",
    "    retVal = []\n",
    "    for entry in inData:\n",
    "        retVal.append(cleanNSerializePlaylist(entry))\n",
    "    return retVal\n",
    "\n",
    "AOTM_CleanDataSet = reStructureAOTMDataset(AOTM_playLists)\n",
    "print len(AOTM_CleanDataSet)"
   ]
  },
  {
   "cell_type": "code",
   "execution_count": null,
   "metadata": {
    "collapsed": true
   },
   "outputs": [],
   "source": []
  }
 ],
 "metadata": {
  "anaconda-cloud": {},
  "kernelspec": {
   "display_name": "Python [conda env:onedropcs670]",
   "language": "python",
   "name": "conda-env-onedropcs670-py"
  },
  "language_info": {
   "codemirror_mode": {
    "name": "ipython",
    "version": 2
   },
   "file_extension": ".py",
   "mimetype": "text/x-python",
   "name": "python",
   "nbconvert_exporter": "python",
   "pygments_lexer": "ipython2",
   "version": "2.7.13"
  }
 },
 "nbformat": 4,
 "nbformat_minor": 2
}

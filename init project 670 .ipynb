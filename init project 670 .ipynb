{
 "cells": [
  {
   "cell_type": "markdown",
   "metadata": {},
   "source": [
    "# Include all you Packages and Libs here"
   ]
  },
  {
   "cell_type": "code",
   "execution_count": 15,
   "metadata": {
    "collapsed": false
   },
   "outputs": [],
   "source": [
    "#packages and libraries\n",
    "import os,sys\n",
    "from os import listdir\n",
    "import string\n",
    "import re\n",
    "import urllib\n",
    "import collections\n",
    "import operator\n",
    "#import numpy as np"
   ]
  },
  {
   "cell_type": "markdown",
   "metadata": {},
   "source": [
    "# Declare all paths/MACROS/globar_var (I strongly suggest dont use global vars)"
   ]
  },
  {
   "cell_type": "code",
   "execution_count": 16,
   "metadata": {
    "collapsed": false
   },
   "outputs": [
    {
     "name": "stdout",
     "output_type": "stream",
     "text": [
      "Done Loading the AoTM data\n",
      "Total Playlist found:  29164\n"
     ]
    }
   ],
   "source": [
    "#Global Vars and Macros\n",
    "_BASE_DIRECTORY = '/Users/007ri/Miniconda2/envs/onedropcs670/Datasets/AoTM'\n",
    "_NN = 300\n",
    "dirs = os.listdir(_BASE_DIRECTORY)\n",
    "\n",
    "filename = 'aotm_list_ids.txt'\n",
    "currURL = _BASE_DIRECTORY+'/'+filename\n",
    "response = urllib.urlopen(currURL)\n",
    "lines = response.readlines()\n",
    "AOTM_playLists = []\n",
    "for line in lines:\n",
    "    AOTM_playLists += line,\n",
    "print 'Done Loading the AoTM data'\n",
    "print 'Total Playlist found: ', len(AOTM_playLists)"
   ]
  },
  {
   "cell_type": "markdown",
   "metadata": {},
   "source": [
    "# This is the pre-processing of AOTM Dataset [..add more later]"
   ]
  },
  {
   "cell_type": "code",
   "execution_count": 17,
   "metadata": {
    "collapsed": false
   },
   "outputs": [
    {
     "name": "stdout",
     "output_type": "stream",
     "text": [
      "Done with processing an parsing the lists. Check stats below: \n",
      "Number of Playlists:  29164\n",
      "Total Songs in the AoTM dataset:  218261\n"
     ]
    }
   ],
   "source": [
    "#This is the playList class and structure. We will be using this as out playList Object to store and manipulate playlist.\n",
    "#self._pid : playlist ID\n",
    "#self._songList : list of tuples of (ArtistID, SongID)\n",
    "#self._songFreqDict : the frequency table of the songs only in the current playlist\n",
    "#self._songFreqDictNorm : _songFreqDict in the nomralized form\n",
    "class playList():\n",
    "    def __init__(self, inPid, inSongList, inSongDict = {}, inSongNormDict = {}):\n",
    "        self._pid = inPid # playlist ID\n",
    "        self._songList = inSongList #list of tuples of (ArtistID, SongID)\n",
    "        self._songFreqDict = inSongDict\n",
    "        self._songFreqDictNorm = inSongNormDict\n",
    "    def __str__(self):\n",
    "        strObj = 'ID: '+str(self._pid)+'\\n'\n",
    "        for tup in self._songList:\n",
    "            strObj += str(tup[0]) + ': '\n",
    "            strObj += str(tup[1]) + '\\n'\n",
    "        return strObj\n",
    "    def setSongDict(self, inDict):\n",
    "        self._songFreqDict = inDict\n",
    "    def setSongDictNorm(self, inNormDict):\n",
    "        self._songFreqDictNorm = inNormDict\n",
    "\n",
    "##########################################################################################################################\n",
    "#This is a helper finctions sections. {[rishabh] Please put all your helper functions here for the modularity of the code}\n",
    "##########################################################################################################################\n",
    "\n",
    "#genVocab():\n",
    "#Purpose: to generate the entire vocablulary.\n",
    "#Input paramas: the input params are the entire dataset which is in the form of list of playList objects.\n",
    "#Return Value: The return is the set of the unique songs in the entire input data set\n",
    "def genVocab(inData):\n",
    "    totalSongsInputSpace = set()\n",
    "    for pl in inData:\n",
    "        for tup in pl._songList:\n",
    "            totalSongsInputSpace.add(tup[1])\n",
    "    return totalSongsInputSpace\n",
    "\n",
    "##########################################################################################################################    \n",
    "#cleanNSerializePlaylist():\n",
    "#Purpose: to clean, organize and restructure the input playlist which is in string format.\n",
    "#Input paramas: the input params are the playList in the string format (raw form as read from the aotm dataset).\n",
    "#Return Value: The return is playList Object of the input playlist\n",
    "def cleanNSerializePlaylist(inDataEntry):\n",
    "    ltmp = inDataEntry.split()\n",
    "    playListID = ltmp[0]\n",
    "    ltmp.pop(0)\n",
    "    playListID = re.sub('#', '', playListID)\n",
    "    n = len(ltmp)\n",
    "    songList = []\n",
    "    for i in xrange(0,n-1,2):\n",
    "        artistid = ltmp[i][:-1]\n",
    "        songid = ltmp[i+1]\n",
    "        tup = (artistid,songid)\n",
    "        songList.append(tup)\n",
    "    retObj = playList(playListID, songList)\n",
    "    return retObj\n",
    "\n",
    "##########################################################################################################################    \n",
    "#reStructureAOTMDataset():\n",
    "#Purpose: a wrapper around the cleanNSerializePlaylist() to call it on every playList in the dataset.\n",
    "#Input paramas: the input params are the entire dataset which is in the form of list of playList as read from the aotm dataset.\n",
    "#Return Value: The return is list of playList Object.\n",
    "def reStructureAOTMDataset(inData):\n",
    "    retVal = []\n",
    "    allVocab = inData\n",
    "    for entry in inData:\n",
    "        retVal.append(cleanNSerializePlaylist(entry))\n",
    "    return retVal\n",
    "\n",
    "##########################################################################################################################    \n",
    "#pidPlObjMapper():\n",
    "#Purpose: a wrapper around the cleanNSerializePlaylist() to call it on every playList in the dataset.\n",
    "#Input paramas: the input params is list of playList Object.\n",
    "#Return Value: The return is a dictionary of pid : playList obj.\n",
    "def pidPlObjMapper(inData):\n",
    "    retDict = collections.defaultdict()\n",
    "    for plObj in inData:\n",
    "        retDict[plObj._pid] = plObj\n",
    "    return retDict\n",
    "\n",
    "##########################################################################################################################    \n",
    "#AOTM_CleanDataSet :- Contains all playList object of every playlist inthe aotm dataset. Look at the class playList() for details of object structure\n",
    "#AOTM_All_Songs :- Contains all the songs ever present in the entire aotm dataset\n",
    "#AOTM_pid_plObj_mapping :- Contains the {pid : playList object} mapping.\n",
    "\n",
    "AOTM_CleanDataSet = reStructureAOTMDataset(AOTM_playLists)\n",
    "AOTM_All_Songs = genVocab(AOTM_CleanDataSet)\n",
    "AOTM_pid_plObj_mapping = pidPlObjMapper(AOTM_CleanDataSet)\n",
    "\n",
    "print 'Done with processing an parsing the lists. Check stats below: '\n",
    "print 'Number of Playlists: ', len(AOTM_CleanDataSet)\n",
    "print 'Total Songs in the AoTM dataset: ', len(AOTM_All_Songs) "
   ]
  },
  {
   "cell_type": "code",
   "execution_count": 10,
   "metadata": {
    "collapsed": false
   },
   "outputs": [
    {
     "name": "stdout",
     "output_type": "stream",
     "text": [
      "Done Creating the song freq dicts!\n",
      "Done Creating the NORMALIZED song freq dicts!\n"
     ]
    }
   ],
   "source": [
    "##########################################################################################################################    \n",
    "#setVocabDicts():\n",
    "#Purpose: a helper to set the plObj.__songFreqDict for each playlist.\n",
    "#Input paramas: the input params is list of playList Object.\n",
    "#Return Value: void.\n",
    "def setVocabDicts(inData):\n",
    "    for pl in inData:\n",
    "        plVecDict = collections.defaultdict(int)\n",
    "        for tup in pl._songList:\n",
    "            plVecDict[tup[1]] += 1\n",
    "        pl.setSongDict(plVecDict)\n",
    "    return\n",
    "\n",
    "#invoking the above function call\n",
    "setVocabDicts(AOTM_CleanDataSet)\n",
    "print \"Done Creating the song freq dicts!\"\n",
    "\n",
    "##########################################################################################################################    \n",
    "#normalize():\n",
    "#Purpose: a helper to normalize the plObj._songFreqDict for each playlist.\n",
    "#Input paramas: the input params is playList._songFreqDict.\n",
    "#Return Value: the normalized dict of the input playList.\n",
    "def normalize(inPlaylistDict):\n",
    "    normSum = 0.0\n",
    "    retDict = collections.defaultdict()\n",
    "    for i in inPlaylistDict:\n",
    "        normSum += inPlaylistDict[i]*inPlaylistDict[i]\n",
    "    normSum = normSum**0.5\n",
    "    for i in inPlaylistDict:\n",
    "        retDict[i] = (1.0*inPlaylistDict[i])/normSum\n",
    "    return retDict\n",
    "\n",
    "##########################################################################################################################    \n",
    "#setNormVocabDicts():\n",
    "#Purpose: a wrapper to set the plObj._songFreqDictNorm for each playlist.\n",
    "#Input paramas: the input params is list of playList Object.\n",
    "#Return Value: void\n",
    "def setNormVocabDicts(inData):\n",
    "    for pl in inData:\n",
    "        SongFreqDictNorm = normalize(pl._songFreqDict)\n",
    "        pl.setSongDictNorm(SongFreqDictNorm)\n",
    "    return\n",
    "\n",
    "#invoking the above function call\n",
    "setNormVocabDicts(AOTM_CleanDataSet)\n",
    "print \"Done Creating the NORMALIZED song freq dicts!\""
   ]
  },
  {
   "cell_type": "code",
   "execution_count": 18,
   "metadata": {
    "collapsed": true
   },
   "outputs": [],
   "source": [
    "\n",
    "##########################################################################################################################    \n",
    "#getCosineScore():\n",
    "#Purpose: to calculate the cosine similarity .\n",
    "#Input paramas: the input params are two playList Objects whose similarity is to be calculated.\n",
    "#Return Value: cosine similarity measure (float value)\n",
    "def getCosineScore(inPlaylist, inRefPlayList):\n",
    "    score = 0.0\n",
    "    inPlaylistDict = inPlaylist._songFreqDictNorm\n",
    "    inRefPlayListDict = inRefPlayList._songFreqDictNorm\n",
    "    for i in inPlaylistDict:\n",
    "        if i in inRefPlayListDict:\n",
    "            score += (1.0*inPlaylistDict[i]*inRefPlayListDict[i])\n",
    "    return score\n",
    "\n",
    "##########################################################################################################################    \n",
    "#cosineSimilartiy():\n",
    "#Purpose: to calculate the cosine similarity .\n",
    "#Input paramas: the input params is list of playList Object in the entrie input space and the user playlist.\n",
    "#Return Value: a dict of playList ids as with similarity measure as value.\n",
    "def cosineSimilartiy(inPlaylist, inOtherPlayLists):\n",
    "    res = collections.defaultdict(float)\n",
    "    for refPl in inOtherPlayLists:\n",
    "        cosineScore = getCosineScore(inPlaylist, refPl)\n",
    "        res[refPl._pid] = cosineScore\n",
    "    return res\n",
    "\n",
    "##########################################################################################################################    \n",
    "#getKNN():\n",
    "#Purpose: get k Nearest neighbor of the inPut playlist.\n",
    "#Input paramas: the input params is user playList, list of playList Object and inK which is defaulted to _NN (macro defined at the beginng).\n",
    "#Return Value: top inK number of playlist IDs as a list.\n",
    "def getKNN(inPlayList, inOtherPlayLists, inK = _NN):#_NN is a macro define above with value 300.\n",
    "    simlarityDict = cosineSimilartiy(inPlaylist, inOtherPlayLists)\n",
    "    sorted_simlarityDict = sorted(simlarityDict.items(), key=operator.itemgetter(1), reverse = True)\n",
    "    retVal = []\n",
    "    for kv in sorted_simlarityDict[:inK]:\n",
    "        ret += kv[0],\n",
    "    return retVal\n",
    "\n"
   ]
  },
  {
   "cell_type": "code",
   "execution_count": 14,
   "metadata": {
    "collapsed": false
   },
   "outputs": [
    {
     "name": "stdout",
     "output_type": "stream",
     "text": [
      "<type 'tuple'>\n"
     ]
    }
   ],
   "source": []
  },
  {
   "cell_type": "code",
   "execution_count": null,
   "metadata": {
    "collapsed": true
   },
   "outputs": [],
   "source": []
  }
 ],
 "metadata": {
  "anaconda-cloud": {},
  "kernelspec": {
   "display_name": "Python [conda env:onedropcs670]",
   "language": "python",
   "name": "conda-env-onedropcs670-py"
  },
  "language_info": {
   "codemirror_mode": {
    "name": "ipython",
    "version": 2
   },
   "file_extension": ".py",
   "mimetype": "text/x-python",
   "name": "python",
   "nbconvert_exporter": "python",
   "pygments_lexer": "ipython2",
   "version": "2.7.13"
  }
 },
 "nbformat": 4,
 "nbformat_minor": 2
}

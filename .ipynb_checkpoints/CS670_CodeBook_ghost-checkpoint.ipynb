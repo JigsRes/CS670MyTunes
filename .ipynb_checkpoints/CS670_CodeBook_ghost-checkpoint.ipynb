{
 "cells": [
  {
   "cell_type": "markdown",
   "metadata": {},
   "source": [
    "# Loading Libraries and Packages"
   ]
  },
  {
   "cell_type": "code",
   "execution_count": 9,
   "metadata": {
    "collapsed": true
   },
   "outputs": [],
   "source": [
    "#packages and libraries\n",
    "import os,sys\n",
    "from os import listdir\n",
    "import string\n",
    "import re\n",
    "import urllib\n",
    "import matplotlib.pyplot as plt\n",
    "import collections\n",
    "import operator\n",
    "import pandas as pd\n",
    "import numpy as np"
   ]
  },
  {
   "cell_type": "markdown",
   "metadata": {},
   "source": [
    "# Defining MACROS and Environment Variables"
   ]
  },
  {
   "cell_type": "code",
   "execution_count": 3,
   "metadata": {
    "collapsed": false
   },
   "outputs": [
    {
     "name": "stdout",
     "output_type": "stream",
     "text": [
      "Done Loading the AoTM data\n",
      "Total Playlist found:  29164\n"
     ]
    }
   ],
   "source": [
    "#Global Vars and Macros\n",
    "#_BASE_DIRECTORY = '/Users/007ri/Miniconda2/envs/onedropcs670/Datasets/AoTM'\n",
    "_BASE_DIRECTORY = '/Users/sidverma/anaconda/Project/AoTM'\n",
    "_NN = 300\n",
    "_SPLIT_RATIO = 0.8\n",
    "dirs = os.listdir(_BASE_DIRECTORY)\n",
    "\n",
    "filename = 'aotm_list_ids.txt'\n",
    "currURL = _BASE_DIRECTORY+'/'+filename\n",
    "response = urllib.urlopen(currURL)\n",
    "lines = response.readlines()\n",
    "AOTM_playLists = []\n",
    "for line in lines:\n",
    "    AOTM_playLists += line,\n",
    "print 'Done Loading the AoTM data'\n",
    "print 'Total Playlist found: ', len(AOTM_playLists)"
   ]
  },
  {
   "cell_type": "markdown",
   "metadata": {},
   "source": [
    "# This is the pre-processing of AOTM Dataset [..add more later]"
   ]
  },
  {
   "cell_type": "code",
   "execution_count": 6,
   "metadata": {
    "collapsed": false
   },
   "outputs": [
    {
     "name": "stdout",
     "output_type": "stream",
     "text": [
      "Done with processing an parsing the lists. Check stats below: \n",
      "Number of Playlists:  29164\n",
      "Total Songs in the AoTM dataset:  218261\n"
     ]
    }
   ],
   "source": [
    "#This is the playList class and structure. We will be using this as out playList Object to store and manipulate playlist.\n",
    "#self._pid : playlist ID\n",
    "#self._songList : list of tuples of (ArtistID, SongID)\n",
    "#self._songFreqDict : the frequency table of the songs only in the current playlist\n",
    "#self._songFreqDictNorm : _songFreqDict in the nomralized form\n",
    "class playList():\n",
    "    def __init__(self, inPid, inSongList, inSongDict = {}, inSongNormDict = {}, inTrainList = [], inTestList = []):\n",
    "        self._pid = inPid # playlist ID\n",
    "        self._songList = inSongList #list of tuples of (ArtistID, SongID)\n",
    "        self._songFreqDict = inSongDict\n",
    "        self._songFreqDictNorm = inSongNormDict\n",
    "        self._trainList = inTrainList\n",
    "        self._testList = inTestList\n",
    "    def __str__(self):\n",
    "        strObj = 'ID: '+str(self._pid)+'\\n'\n",
    "        for tup in self._songList:\n",
    "            strObj += str(tup[0]) + ': '\n",
    "            strObj += str(tup[1]) + '\\n'\n",
    "        return strObj\n",
    "    def setSongDict(self, inDict):\n",
    "        self._songFreqDict = inDict\n",
    "    def setSongDictNorm(self, inNormDict):\n",
    "        self._songFreqDictNorm = inNormDict\n",
    "    def setTrainList(self, inTrainList):\n",
    "        self._trainList = inTrainList\n",
    "    def setTestList(self, inTestList):\n",
    "        self._testList = inTestList\n",
    "\n",
    "##########################################################################################################################\n",
    "#This is a helper finctions sections. {[rishabh] Please put all your helper functions here for the modularity of the code}\n",
    "##########################################################################################################################\n",
    "\n",
    "#genVocab():\n",
    "#Purpose: to generate the entire vocablulary.\n",
    "#Input paramas: the input params are the entire dataset which is in the form of list of playList objects.\n",
    "#Return Value: The return is the set of the unique songs in the entire input data set\n",
    "def genVocab(inData):\n",
    "    totalSongsInputSpace = set()\n",
    "    for pl in inData:\n",
    "        for tup in pl._songList:\n",
    "            totalSongsInputSpace.add(tup[1])\n",
    "    return totalSongsInputSpace\n",
    "\n",
    "##########################################################################################################################    \n",
    "#cleanNSerializePlaylist():\n",
    "#Purpose: to clean, organize and restructure the input playlist which is in string format.\n",
    "#Input paramas: the input params are the playList in the string format (raw form as read from the aotm dataset).\n",
    "#Return Value: The return is playList Object of the input playlist\n",
    "def cleanNSerializePlaylist(inDataEntry):\n",
    "    ltmp = inDataEntry.split()\n",
    "    playListID = ltmp[0]\n",
    "    ltmp.pop(0)\n",
    "    playListID = re.sub('#', '', playListID)\n",
    "    n = len(ltmp)\n",
    "    songList = []\n",
    "    for i in xrange(0,n-1,2):\n",
    "        artistid = ltmp[i][:-1]\n",
    "        songid = ltmp[i+1]\n",
    "        tup = (artistid,songid)\n",
    "        songList.append(tup)\n",
    "    retObj = playList(playListID, songList)\n",
    "    return retObj\n",
    "\n",
    "##########################################################################################################################    \n",
    "#reStructureAOTMDataset():\n",
    "#Purpose: a wrapper around the cleanNSerializePlaylist() to call it on every playList in the dataset.\n",
    "#Input paramas: the input params are the entire dataset which is in the form of list of playList as read from the aotm dataset.\n",
    "#Return Value: The return is list of playList Object.\n",
    "def reStructureAOTMDataset(inData):\n",
    "    retVal = []\n",
    "    allVocab = inData\n",
    "    for entry in inData:\n",
    "        retVal.append(cleanNSerializePlaylist(entry))\n",
    "    return retVal\n",
    "\n",
    "##########################################################################################################################    \n",
    "#pidPlObjMapper():\n",
    "#Purpose: a wrapper around the cleanNSerializePlaylist() to call it on every playList in the dataset.\n",
    "#Input paramas: the input params is list of playList Object.\n",
    "#Return Value: The return is a dictionary of pid : playList obj.\n",
    "def pidPlObjMapper(inData):\n",
    "    retDict = collections.defaultdict()\n",
    "    for plObj in inData:\n",
    "        retDict[plObj._pid] = plObj\n",
    "    return retDict\n",
    "\n",
    "##########################################################################################################################    \n",
    "#AOTM_CleanDataSet :- Contains all playList object of every playlist inthe aotm dataset. Look at the class playList() for details of object structure\n",
    "#AOTM_All_Songs :- Contains all the songs ever present in the entire aotm dataset\n",
    "#AOTM_pid_plObj_mapping :- Contains the {pid : playList object} mapping.\n",
    "\n",
    "AOTM_CleanDataSet = reStructureAOTMDataset(AOTM_playLists)\n",
    "AOTM_All_Songs = genVocab(AOTM_CleanDataSet)\n",
    "AOTM_pid_plObj_mapping = pidPlObjMapper(AOTM_CleanDataSet)\n",
    "\n",
    "print 'Done with processing an parsing the lists. Check stats below: '\n",
    "print 'Number of Playlists: ', len(AOTM_CleanDataSet)\n",
    "print 'Total Songs in the AoTM dataset: ', len(AOTM_All_Songs)"
   ]
  },
  {
   "cell_type": "markdown",
   "metadata": {},
   "source": [
    "# Exploratory Data Analysis\n",
    "* Let's look at some of the statistical aspects of our datasets\n",
    "* We hope to gain some valuable insights which might help our analysis in terms of cleaning the dataset to remove outliers and other spurious features."
   ]
  },
  {
   "cell_type": "code",
   "execution_count": 8,
   "metadata": {
    "collapsed": false,
    "scrolled": true
   },
   "outputs": [
    {
     "data": {
      "image/png": "[encoded data removed]",
      "text/plain": [
       "<matplotlib.figure.Figure at 0x103f53410>"
      ]
     },
     "metadata": {},
     "output_type": "display_data"
    }
   ],
   "source": [
    "##########################################################################################################################    \n",
    "#analysisPlaylistSize():\n",
    "#Purpose: an analysis function to look at the distribution of Playlist Lengths.\n",
    "#Input paramas: the input params is list of playList Object.\n",
    "#Return Value: The return is null.\n",
    "\n",
    "def analysisPlaylistSize(inData):\n",
    "    X , Y = [], []\n",
    "    temp = []\n",
    "    for p in inData:\n",
    "        temp.append(len(p._songList))\n",
    "    temp.sort()\n",
    "    idx = 1\n",
    "    for t in temp:\n",
    "        X.append(idx)\n",
    "        Y.append(t)\n",
    "        idx += 1\n",
    "    plt.plot(X, Y)\n",
    "    plt.grid()\n",
    "    plt.show()\n",
    "    return \n",
    "analysisPlaylistSize(AOTM_CleanDataSet)"
   ]
  },
  {
   "cell_type": "markdown",
   "metadata": {},
   "source": [
    "### Key Takeaways:\n",
    "* As we can see from the above analyses, approx ~ 2000 playlists have a length fewer than 10 songs. Hence it may be difficult to create good recommendations for such user playlists since the vector size is relatively smaller than most of the others in the dataset.\n",
    "* Thus we propose, to select only those playlists that have a vector length > 10 songs."
   ]
  },
  {
   "cell_type": "code",
   "execution_count": null,
   "metadata": {
    "collapsed": true
   },
   "outputs": [],
   "source": [
    "##########################################################################################################################    \n",
    "#analysisTopTags():\n",
    "#Purpose: an analysis function to look at the distribution of most Popular Tags.\n",
    "#Input paramas: the input params is list of playList Object.\n",
    "#Return Value: The return is null."
   ]
  },
  {
   "cell_type": "markdown",
   "metadata": {},
   "source": [
    "# Cleaning Data"
   ]
  },
  {
   "cell_type": "code",
   "execution_count": 20,
   "metadata": {
    "collapsed": false
   },
   "outputs": [
    {
     "name": "stdout",
     "output_type": "stream",
     "text": [
      "Done removing unwanted playLists, viz pl with <10 songs!\n",
      "Done setting train and test lists!\n",
      "Done Creating the song freq dicts!\n",
      "Done Creating the NORMALIZED song freq dicts!\n"
     ]
    }
   ],
   "source": [
    "##########################################################################################################################    \n",
    "#removeUnwantedPlaylist():\n",
    "#Purpose: remove the playLists with less k songs.\n",
    "#Input paramas: the input params is list of playList Object & k -> thresHold.\n",
    "#Return Value: list of playList Object with >k songs.\n",
    "def removeUnwantedPlaylist(inData, k = 10):\n",
    "    retval = []\n",
    "    for i in inData:\n",
    "        if len(i._songList) < 10:\n",
    "            continue\n",
    "        retval.append(i)\n",
    "    return retval\n",
    "\n",
    "#Clean data\n",
    "AOTM_CleanDataSet = removeUnwantedPlaylist(AOTM_CleanDataSet, 10)\n",
    "print \"Done removing unwanted playLists, viz pl with <10 songs!\"\n",
    "##########################################################################################################################    \n",
    "#setTestTrainLists():\n",
    "#Purpose: a helper to set the plObj._trainList, plObj._testList\n",
    "#Input paramas: the input params is list of playList Object.\n",
    "#Return Value: void.\n",
    "def setTestTrainLists(inData):\n",
    "    for pl in inData:\n",
    "        n = len(pl._songList)\n",
    "        k = int(_SPLIT_RATIO*n)\n",
    "        trainList = pl._songList[:k]\n",
    "        testList = pl._songList[k:]\n",
    "        pl.setTrainList(trainList)\n",
    "        pl.setTestList(testList)\n",
    "    return\n",
    "#invoke fucntion\n",
    "setTestTrainLists(AOTM_CleanDataSet)\n",
    "print \"Done setting train and test lists!\"\n",
    "##########################################################################################################################    \n",
    "#setVocabDicts():\n",
    "#Purpose: a helper to set the plObj.__songFreqDict for each playlist.\n",
    "#Input paramas: the input params is list of playList Object.\n",
    "#Return Value: void.\n",
    "def setVocabDicts(inData):\n",
    "    for pl in inData:\n",
    "        plVecDict = collections.defaultdict(int)\n",
    "        for tup in pl._trainList:\n",
    "            plVecDict[tup[1]] += 1\n",
    "        pl.setSongDict(plVecDict)\n",
    "    return\n",
    "\n",
    "#invoking the above function call\n",
    "setVocabDicts(AOTM_CleanDataSet)\n",
    "print \"Done Creating the song freq dicts!\"\n",
    "\n",
    "##########################################################################################################################    \n",
    "#normalize():\n",
    "#Purpose: a helper to normalize the plObj._songFreqDict for each playlist.\n",
    "#Input paramas: the input params is playList._songFreqDict.\n",
    "#Return Value: the normalized dict of the input playList.\n",
    "def normalize(inPlaylistDict):\n",
    "    normSum = 0.0\n",
    "    retDict = collections.defaultdict()\n",
    "    for i in inPlaylistDict:\n",
    "        normSum += inPlaylistDict[i]*inPlaylistDict[i]\n",
    "    normSum = normSum**0.5\n",
    "    for i in inPlaylistDict:\n",
    "        retDict[i] = (1.0*inPlaylistDict[i])/normSum\n",
    "    return retDict\n",
    "\n",
    "##########################################################################################################################    \n",
    "#setNormVocabDicts():\n",
    "#Purpose: a wrapper to set the plObj._songFreqDictNorm for each playlist.\n",
    "#Input paramas: the input params is list of playList Object.\n",
    "#Return Value: void\n",
    "def setNormVocabDicts(inData):\n",
    "    for pl in inData:\n",
    "        SongFreqDictNorm = normalize(pl._songFreqDict)\n",
    "        pl.setSongDictNorm(SongFreqDictNorm)\n",
    "    return\n",
    "\n",
    "#invoking the above function call\n",
    "setNormVocabDicts(AOTM_CleanDataSet)\n",
    "print \"Done Creating the NORMALIZED song freq dicts!\""
   ]
  },
  {
   "cell_type": "markdown",
   "metadata": {},
   "source": [
    "# Cosine Vector Space"
   ]
  },
  {
   "cell_type": "code",
   "execution_count": 11,
   "metadata": {
    "collapsed": false
   },
   "outputs": [
    {
     "name": "stdout",
     "output_type": "stream",
     "text": [
      "0\n",
      "Done!!!!\n"
     ]
    }
   ],
   "source": [
    "##########################################################################################################################    \n",
    "#getCosineScore():\n",
    "#Purpose: to calculate the cosine similarity .\n",
    "#Input paramas: the input params are two playList Objects whose similarity is to be calculated.\n",
    "#Return Value: cosine similarity measure (float value)\n",
    "def getCosineScore(inPlaylist, inRefPlayList):\n",
    "    score = 0.0\n",
    "    inPlaylistDict = inPlaylist._songFreqDictNorm\n",
    "    inRefPlayListDict = inRefPlayList._songFreqDictNorm\n",
    "    for i in inPlaylistDict:\n",
    "        if i in inRefPlayListDict:\n",
    "            score += (1.0*inPlaylistDict[i]*inRefPlayListDict[i])\n",
    "    return score\n",
    "\n",
    "##########################################################################################################################    \n",
    "#cosineSimilartiy():\n",
    "#Purpose: to calculate the cosine similarity .\n",
    "#Input paramas: the input params is list of playList Object in the entrie input space and the user playlist.\n",
    "#Return Value: a dict of playList ids as with similarity measure as value.\n",
    "def cosineSimilartiy(inPlayList, inOtherPlayLists):\n",
    "    res = collections.defaultdict(float)\n",
    "    for refPl in inOtherPlayLists:\n",
    "        if refPl._pid == inPlayList._pid:\n",
    "            continue\n",
    "        cosineScore = getCosineScore(inPlayList, refPl)\n",
    "        res[refPl._pid] = cosineScore\n",
    "    return res\n",
    "\n",
    "##########################################################################################################################    \n",
    "#getKNN():\n",
    "#Purpose: get k nearest neighbors to inPut playlist.(Distance sim)\n",
    "#Input paramas: the input params is user playList, list of playList Object and inK which is defaulted to _NN (macro defined at the beginng).\n",
    "#Return Value: top inK number of playlist IDs as a list.\n",
    "def getKNN(inPlayList, inOtherPlayLists, bTruncateZeros = False, inK = _NN):#_NN is a macro define above with value 300 or less if we have <300 similars.\n",
    "    simlarityDict = cosineSimilartiy(inPlayList, inOtherPlayLists)\n",
    "    sorted_simlarityDict = sorted(simlarityDict.items(), key=operator.itemgetter(1), reverse = True)\n",
    "    retVal = []\n",
    "    for kv in sorted_simlarityDict[:inK]:\n",
    "        if bTruncateZeros and kv[1] <= 0.0:\n",
    "            return retVal\n",
    "        retVal += kv[0],\n",
    "    return retVal\n",
    "\n",
    "inP = AOTM_CleanDataSet[0]\n",
    "inO = AOTM_CleanDataSet\n",
    "tmp = getKNN(inP, inO, True)\n",
    "print len(tmp)\n",
    "print \"Done!!!!\""
   ]
  },
  {
   "cell_type": "markdown",
   "metadata": {},
   "source": [
    "# Theory of why not to use aotm dataset and moving on to lastfm"
   ]
  },
  {
   "cell_type": "code",
   "execution_count": null,
   "metadata": {
    "collapsed": true
   },
   "outputs": [],
   "source": []
  },
  {
   "cell_type": "markdown",
   "metadata": {},
   "source": [
    "# Include all you Packages and Libs here"
   ]
  },
  {
   "cell_type": "code",
   "execution_count": 17,
   "metadata": {
    "collapsed": false
   },
   "outputs": [],
   "source": [
    "#packages and libraries\n",
    "import os,sys\n",
    "import string\n",
    "import re\n",
    "import urllib\n",
    "import matplotlib.pyplot as plt\n",
    "import collections\n",
    "import operator\n",
    "import numpy as np\n",
    "import pandas as pd\n",
    "import math\n",
    "import time\n",
    "import random\n",
    "from os import listdir"
   ]
  },
  {
   "cell_type": "markdown",
   "metadata": {},
   "source": [
    "# Include your globar vars and MACROS here\n"
   ]
  },
  {
   "cell_type": "code",
   "execution_count": 6,
   "metadata": {
    "collapsed": true
   },
   "outputs": [],
   "source": [
    "#Put your base directory here\n",
    "#ADD ALL YOUR FILE NAMES HERE AND USE THESE NAMES IN THE DICT\n",
    "_BASEDIRECTORY = '/Users/sidverma/Desktop/IR/'\n",
    "_FILE_MAIN = 'Final.csv'\n",
    "_FILE_TAG_FREQ_FILE = 'FinalTagFreq'\n",
    "_FILE_SONG_BOOL_TAGS = 'FinalTagroomMergedVecs'\n",
    "_FILE_SAMPLE_USERS = 'Best_Users.txt'\n",
    "_FILE_KNN_BASELINE_USERS = 'knnSimilarity.csv'\n",
    "_USER_LIST = []"
   ]
  },
  {
   "cell_type": "markdown",
   "metadata": {},
   "source": [
    "# last.fm Dataset Crawling and Pre-processing"
   ]
  },
  {
   "cell_type": "markdown",
   "metadata": {},
   "source": [
    "We are using pylast module to crawl data exposed by Last.fm.  pylast is a Python interface to Last.fm. "
   ]
  },
  {
   "cell_type": "markdown",
   "metadata": {},
   "source": [
    "## a) Getting usernames for users\n",
    "We started by collecting 6000 usernames in their database. We started by one user and added his friends to the user-list. We did this in Breadth First Search Pattern. This was a challenging task considering the network errors in the API calls and amount of time required. We finally used on 3000 users out of 6000 users.\n",
    "## b) Getting user playlists based on usernames\n",
    "Next for all the usernames in the user list obtained in the previous step, we found the last 200 songs listened by them. We consider that as a playlist for that user. We collected information like \"\"\n",
    "## c) Getting song meta-data like social tags\n",
    "Next we collected social tags for each song fetched in the previous step. We observed that the tag data was skewed based on the the number of tags. So we cleaned the tags later on. The tag information is used in the content-based scoring.\n",
    "## d) Getting song numerical features like popularity\n",
    "For each song we also found numerical features like total listeners count and number of times the track was played. This data is used in scoring based on Numerical Features."
   ]
  },
  {
   "cell_type": "markdown",
   "metadata": {},
   "source": [
    "# Data analysis and Plots"
   ]
  },
  {
   "cell_type": "markdown",
   "metadata": {},
   "source": [
    "#Plots"
   ]
  },
  {
   "cell_type": "markdown",
   "metadata": {},
   "source": [
    "# Observation and decision based on them moving fwrd"
   ]
  },
  {
   "cell_type": "markdown",
   "metadata": {},
   "source": [
    "# Faceted Track Scoring\n",
    "In this section, we present the details of our multi-faceted\n",
    "weighted scoring approach. The goal is to determine a relevance score for each possible next track given a playlist history h (sequence of tracks) using different input signals."
   ]
  },
  {
   "cell_type": "code",
   "execution_count": 10,
   "metadata": {
    "collapsed": false
   },
   "outputs": [
    {
     "name": "stdout",
     "output_type": "stream",
     "text": [
      "['monkeyhacker', 'badboy495', 'sonnycorleones', 'heavydirtysoul_', 'Garry_Drezden']\n",
      "Done\n"
     ]
    }
   ],
   "source": [
    "# Helper\n",
    "os.chdir(_BASEDIRECTORY)\n",
    "def getUsers():\n",
    "    f = open(_FILE_SAMPLE_USERS, 'r')\n",
    "    users = []\n",
    "    for l in f:\n",
    "        users.append(l[:-1])\n",
    "    return users\n",
    "_USER_LIST = getUsers()\n",
    "print _USER_LIST\n",
    "print \"Done\""
   ]
  },
  {
   "cell_type": "markdown",
   "metadata": {},
   "source": [
    "# 1. Baseline Algorithm"
   ]
  },
  {
   "cell_type": "markdown",
   "metadata": {},
   "source": [
    "## 1A) Theory"
   ]
  },
  {
   "cell_type": "markdown",
   "metadata": {},
   "source": [
    "We have used kNN Algorithm as a baseline. Given a history h and a set $N_{h}$ of nearest neighbor playlists of h, we compute the kNN score of a target track $t_{*}$ with $sim_{cosine}(h, n)$ as the binary cosine similarity of track occurrences in $h$ and $n$. $1_{n}(t^{*}) = 1$ if $n$ contains $t^{*}$ and 0 otherwise.\n",
    "\n",
    "$$score_{kNN}(h, t^{*}) = \\sum_{n \\epsilon N_{h}} sim_{cosine}(h,n)*1_{n}(t^{*}) $$\n",
    "\n",
    "This is done in  two steps:  \n",
    "i.) In first phase we calculate 300 nearest neighbors of the user based on cosine similarity of the user playlist and other users' plalylist. The scores are reported in file _FILE_KNN_BASELINE_USERS_.  \n",
    "ii.) In the next step, kNN baseline scores are calculated using the equation given above."
   ]
  },
  {
   "cell_type": "markdown",
   "metadata": {},
   "source": [
    "## 1B[i]) Phase 1 Code: Getting Nearest Users using KNN300"
   ]
  },
  {
   "cell_type": "code",
   "execution_count": 15,
   "metadata": {
    "collapsed": true
   },
   "outputs": [],
   "source": [
    "_SPLIT_RATIO=0.8\n",
    "_NUM_OF_NEIGHBORS=300"
   ]
  },
  {
   "cell_type": "code",
   "execution_count": null,
   "metadata": {
    "collapsed": true
   },
   "outputs": [],
   "source": [
    "class kNNGenerator(object):\n",
    "    def __init__(self):\n",
    "        self.user_list=[]\n",
    "        self.song_list=[]\n",
    "        self.similarities = []\n",
    "        self.similar_neighbors = []\n",
    "        self.similarity_scores = []\n",
    "\n",
    "    def similarity_func(self,playlist1, playlist2):\n",
    "        set2 = set(playlist2)\n",
    "        count = [1 for song in playlist1 if song in set2]\n",
    "        return float(sum(count)) / math.sqrt(len(playlist1) * len(playlist2))\n",
    "\n",
    "\n",
    "    def getUserSongList(self):\n",
    "        frame = pd.read_csv(_FILE_MAIN)\n",
    "        frame.drop([\"Playtime\", \"Album\", \"Match\", \"Listeners\", \"Playcount\", \"Duration\", \"Tags\"], axis=1, inplace=\"True\")\n",
    "        grouped = frame.groupby(by=\"Users\")\n",
    "        user_groups = grouped.groups\n",
    "        for k in user_groups.keys():\n",
    "            self.user_list.append(k)\n",
    "            user_group = grouped.get_group(k)\n",
    "            self.song_list.append(user_group.Songs.tolist())\n",
    "\n",
    "    def getSimilarityScores(self):\n",
    "        len_user_list = len(self.user_list)\n",
    "        for i, user in enumerate(self.user_list):\n",
    "            print \"Calculating 300NN for User\", i\n",
    "            similarity = []\n",
    "            end_index = int(math.ceil(_SPLIT_RATIO * len(self.song_list[i])))\n",
    "            curr_user_playlist = self.song_list[i][:end_index]\n",
    "            print \"User details: \", user, len(curr_user_playlist)\n",
    "            for j in range(0, i):\n",
    "                print \"Parsing Row: \", j\n",
    "                similarity.append((self.user_list[j], self.similarity_func(curr_user_playlist, self.song_list[j])))\n",
    "            for j in range(i + 1, len_user_list):\n",
    "                print \"Parsing Row: \", j\n",
    "                similarity.append((self.user_list[j], self.similarity_func(curr_user_playlist, self.song_list[j])))\n",
    "            self.similarities.append(similarity)\n",
    "\n",
    "\n",
    "    def sortNeighbors(self):\n",
    "        for i in range(len(self.similarities)):\n",
    "            self.similarities[i].sort(key=lambda x: float(x[1]), reverse=True)\n",
    "            self.similarities[i] = self.similarities[i][:_NUM_OF_NEIGHBORS]\n",
    "\n",
    "\n",
    "\n",
    "    def saveScores(self):\n",
    "        for similarity in self.similarities:\n",
    "            curr_similar_neighbors = [similar[0] for similar in similarity]\n",
    "            curr_similarity_score = [similar[1] for similar in similarity]\n",
    "            self.similar_neighbors.append(curr_similar_neighbors)\n",
    "            self.similarity_scores.append(curr_similarity_score)\n",
    "\n",
    "        df = pd.DataFrame(\n",
    "            data={\"Users\": self.user_list, \"kNN\": self.similar_neighbors, \"Similarities\": self.similarity_scores},\n",
    "            columns=[\"Users\", \"kNN\", \"Similarities\"])\n",
    "        df.to_csv(_FILE_KNN_BASELINE_USERS, sep=',')\n",
    "\n",
    "\n",
    "def generatekNN():\n",
    "    kNNGeneratorObj= kNNGenerator()\n",
    "    kNNGeneratorObj.getUserSongList()\n",
    "    kNNGeneratorObj.getSimilarityScores()\n",
    "    kNNGeneratorObj.sortNeighbors()\n",
    "    kNNGeneratorObj.saveScores()\n",
    "    print \"Done\"\n",
    "\n",
    "\n",
    "generatekNN()"
   ]
  },
  {
   "cell_type": "markdown",
   "metadata": {},
   "source": [
    "## 1B[ii]) Phase 2 Code: Calculating Baseline Score using KNN"
   ]
  },
  {
   "cell_type": "code",
   "execution_count": 16,
   "metadata": {
    "collapsed": false
   },
   "outputs": [
    {
     "name": "stdout",
     "output_type": "stream",
     "text": [
      "Genrating CORPUS\n",
      "Done CORPUS GENERATION\n",
      "monkeyhacker 32012\n",
      "------------\n",
      "Calculating INVERTED INDEX\n",
      "INVERTED INDEX Calculated\n",
      "------------\n",
      "Calculating SCORES  monkeyhacker\n",
      "SCORES Calculated  monkeyhacker\n",
      "------------\n",
      "Dumping in File monkeyhackerKNN_Score.csv\n",
      "Genrating CORPUS\n",
      "Done CORPUS GENERATION\n",
      "badboy495 31271\n",
      "------------\n",
      "Calculating INVERTED INDEX\n",
      "INVERTED INDEX Calculated\n",
      "------------\n",
      "Calculating SCORES  badboy495\n",
      "SCORES Calculated  badboy495\n",
      "------------\n",
      "Dumping in File badboy495KNN_Score.csv\n",
      "Genrating CORPUS\n",
      "Done CORPUS GENERATION\n",
      "sonnycorleones 29795\n",
      "------------\n",
      "Calculating INVERTED INDEX\n",
      "INVERTED INDEX Calculated\n",
      "------------\n",
      "Calculating SCORES  sonnycorleones\n",
      "SCORES Calculated  sonnycorleones\n",
      "------------\n",
      "Dumping in File sonnycorleonesKNN_Score.csv\n",
      "Genrating CORPUS\n",
      "Done CORPUS GENERATION\n",
      "heavydirtysoul_ 30103\n",
      "------------\n",
      "Calculating INVERTED INDEX\n",
      "INVERTED INDEX Calculated\n",
      "------------\n",
      "Calculating SCORES  heavydirtysoul_\n",
      "SCORES Calculated  heavydirtysoul_\n",
      "------------\n",
      "Dumping in File heavydirtysoul_KNN_Score.csv\n",
      "Genrating CORPUS\n",
      "Done CORPUS GENERATION\n",
      "Garry_Drezden 34650\n",
      "------------\n",
      "Calculating INVERTED INDEX\n",
      "INVERTED INDEX Calculated\n",
      "------------\n",
      "Calculating SCORES  Garry_Drezden\n",
      "SCORES Calculated  Garry_Drezden\n",
      "------------\n",
      "Dumping in File Garry_DrezdenKNN_Score.csv\n",
      "DONE\n"
     ]
    }
   ],
   "source": [
    "def getCleanUserList(inUsers):\n",
    "    inUsers = inUsers.replace('\\\"', '')\n",
    "    inUsers = inUsers.replace('[', '')\n",
    "    inUsers = inUsers.replace(']', '')\n",
    "    inUsers = inUsers.replace('\\'', '')\n",
    "    return inUsers.split(', ')\n",
    "\n",
    "def getCleanScoreList(inScore):\n",
    "    retVal = []\n",
    "    inScore = inScore.replace('[', '')\n",
    "    inScore = inScore.replace(']', '')\n",
    "    tmpList = inScore.split(', ')\n",
    "    for i in tmpList:\n",
    "        retVal.append(float(i))\n",
    "    return retVal\n",
    "\n",
    "def getSongCorpus(inUsers):\n",
    "    os.chdir(_BASEDIRECTORY)\n",
    "    df = pd.read_csv(_FILE_MAIN)\n",
    "    groupFrame = df.groupby(by = 'Users')\n",
    "    corpus = set()\n",
    "    for usr in inUsers:\n",
    "        currFrame = groupFrame.get_group(usr)\n",
    "        songsPool = currFrame.Songs.tolist()\n",
    "        for s in songsPool:\n",
    "            corpus.add(s)\n",
    "    return corpus\n",
    "\n",
    "def calculateSongsInvertedIndex(inUserList, inCorpus):\n",
    "    invertedIndexDict = collections.defaultdict(list)\n",
    "    os.chdir(_BASEDIRECTORY)\n",
    "    df = pd.read_csv(_FILE_MAIN)\n",
    "    groupFrame = df.groupby(by='Users')\n",
    "    for user in inUserList:\n",
    "        currFrame = groupFrame.get_group(user)\n",
    "        userSongsList = currFrame.Songs.tolist()\n",
    "        for s in userSongsList:\n",
    "            invertedIndexDict[s].append(user)\n",
    "    return invertedIndexDict\n",
    "\n",
    "def getSongScore(song, inUser, occuringPlayLists, neighbor_scores_tuples_list):\n",
    "    retVal = 0.0\n",
    "    for tup in neighbor_scores_tuples_list:\n",
    "        neighbor = tup[0]\n",
    "        neighborScore = tup[1]\n",
    "        if neighbor in occuringPlayLists:\n",
    "            retVal += neighborScore\n",
    "    return retVal\n",
    "\n",
    "def calculateSimilarityMeasure(inUser, inInvertedScoresDict, neighbor_scores_tuples_list):\n",
    "    scoresDict = collections.defaultdict(float)\n",
    "    for song in inInvertedScoresDict:\n",
    "        score = getSongScore(song, inUser, inInvertedScoresDict[song], neighbor_scores_tuples_list)\n",
    "        scoresDict[song] = score\n",
    "    return scoresDict\n",
    "\n",
    "def knnSimilarity(inUserList):\n",
    "    os.chdir(_BASEDIRECTORY)\n",
    "    df = pd.read_csv(_FILE_KNN_BASELINE_USERS)\n",
    "    userFrame = df.groupby(by='Users')\n",
    "    index = 0\n",
    "    userAlreadyVisited = set()\n",
    "    for i, row in df.iterrows():\n",
    "        u = row['Users']\n",
    "        if u not in inUserList:\n",
    "            continue\n",
    "        if u in userAlreadyVisited:\n",
    "            continue\n",
    "        userAlreadyVisited.add(u)\n",
    "        neigbors = row['kNN']\n",
    "        userList = getCleanUserList(neigbors)\n",
    "        simScores = row['Similarities']\n",
    "        simScoresList = getCleanScoreList(simScores)\n",
    "        neighbor_scores_tuples_list = zip(userList, simScoresList)\n",
    "        print 'Genrating CORPUS'\n",
    "        currCorpus = getSongCorpus(userList)\n",
    "        print 'Done CORPUS GENERATION'\n",
    "        print u, len(currCorpus)\n",
    "        print '------------------------'\n",
    "        print 'Calculating INVERTED INDEX'\n",
    "        invertedScoresDict = calculateSongsInvertedIndex(userList, currCorpus)\n",
    "        print 'INVERTED INDEX Calculated'\n",
    "        print '------------------------'\n",
    "        print 'Calculating SCORES ', u\n",
    "        similarityScores = calculateSimilarityMeasure(u, invertedScoresDict, neighbor_scores_tuples_list)\n",
    "        print 'SCORES Calculated ', u\n",
    "        print '------------------------'\n",
    "        final_df = pd.DataFrame(similarityScores.items(), columns=['Songs', 'Score'])\n",
    "        fname = u + 'KNN_Score.csv'\n",
    "        print \"Dumping in File \" + fname\n",
    "        final_df.to_csv(fname)\n",
    "\n",
    "def entryPoint():\n",
    "    userList = getUsers()\n",
    "    knnSimilarity(_USER_LIST)\n",
    "    print 'DONE'\n",
    "\n",
    "entryPoint()"
   ]
  },
  {
   "cell_type": "markdown",
   "metadata": {},
   "source": [
    "# Computing Additional Suitability Scores\n",
    "Playlist creators can have certain “themes”, goals or quality criteria in mind when they design a playlist. The idea of our faceted scoring method is to combine the kNN approach with additional suitability scores. If we, for example, detect that the homogeneity of the popularity of the tracks is most probably a guiding quality criterion, we should give an extra relevance weight to tracks that are similar in populairty to those in the history; if we observe that several tracks in the history were annotated by users with certain tags, we should increase the relevance score of tracks with similar tags. Generally, the combination of different scores shall serve\n",
    "two purposes: (1) increasing the hit rate as more relevant tracks receive a higher aggregated score and (2) making the playlist continuation more homogeneous, which is often a desirable goal in the Music Information Retrieval literature. In our experiments, we tested the following scores as examples to validate our approach. The selection was based on the availability of track metadata in public sources."
   ]
  },
  {
   "cell_type": "markdown",
   "metadata": {},
   "source": [
    "# 2. Content-Based"
   ]
  },
  {
   "cell_type": "markdown",
   "metadata": {},
   "source": [
    "## 2A) Theory"
   ]
  },
  {
   "cell_type": "markdown",
   "metadata": {},
   "source": [
    "We retrieved the social tags  that were assigned to tracks by users on Last.fm as they are valuable indicators of what a certain playlist is about. We removed irrelevant tags like “my favorite” or “like it”, retained the 1,000 most frequent tags and computed TF-IDF (Term Frequency/Inverse Document Frequency) vectors for each track. Given a history $h$ consisting of tracks $t_{i}$ . . .  $t_{n}$ with the TF-IDF vectors $t_{1}^{v}$ to $t_{n}^{v}$, we compute the score of target track t^{*} using its TF-IDF vector t^{∗v} as follows. scorecontent(h, t∗) = simcosine\n",
    "$$score_{content}(h, t^{*}) = sim_{cosine}(\\sum_{t_{i}^{v}\\epsilon h }\\dfrac{t^{v}_{i}}{|h|} , t^{*v})$$\n",
    "\n",
    "We have tag vectors for all songs in _FILE_SONG_BOOL_TAGS and tag frequencies in _FILE_TAG_FREQ_FILE. Tag Frequencies are used to calculate IDF scores. We caluclate TF-IDF vector for the playlist of a user and then we caluclate content based similarity score for all other users using the equation mentioned above. Finally we pick top 1000 users and maintain their scores."
   ]
  },
  {
   "cell_type": "markdown",
   "metadata": {},
   "source": [
    "## 2B) Code"
   ]
  },
  {
   "cell_type": "code",
   "execution_count": null,
   "metadata": {
    "collapsed": true
   },
   "outputs": [],
   "source": [
    "split_ratio_train_test = 0.8\n",
    "split_ratio_train = 0.2\n",
    "user_list = []\n",
    "neighbours_list = []\n",
    "scores_list = [] \n",
    "\n",
    "# reading the main File\n",
    "frame = pd.read_csv(_FILE_MAIN)\n",
    "frame.drop([\"Playtime\", \"Album\", \"Match\" , \"Listeners\", \"Playcount\", \"Duration\", \"Tags\"], axis=1, inplace=\"True\")\n",
    "\n",
    "# reading the tags related file:\n",
    "## Songs Based Scoring\n",
    "frameSong = pd.read_csv(_FILE_SONG_BOOL_TAGS)\n",
    "frameSong[\"Songs\"] = frame[\"Songs\"]\n",
    "groupedSongs = frameSong.groupby(by=\"Songs\")\n",
    "groupsSongs = groupedSongs.groups\n",
    "full_len = frameSong.shape[0]\n",
    "### Users based grouping \n",
    "groupedUsers = frame.groupby(by=\"Users\")\n",
    "groupsUsers=groupedUsers.groups\n",
    "\n",
    "\n",
    "# Using the dict for storing the IDF vector\n",
    "df_dict = pd.read_csv(_FILE_TAG_FREQ_FILE)\n",
    "IDF_DICT = [math.log10((full_len/df_dict['Frequency'][i])) for i in xrange(df_dict.shape[0])]\n",
    "\n",
    "def findmagnitude(input):\n",
    "    return math.sqrt(sum(input[i]*input[i] for i in range(len(input))))\n",
    "\n",
    "def normalizefunction(input):\n",
    "    listmagnitude =  findmagnitude(input)\n",
    "    if  listmagnitude == 0:\n",
    "        return  input\n",
    "    return [ float(input[i])/listmagnitude  for i in range(len(input)) ]\n",
    "\n",
    "def cosinefunction(input1, input2):\n",
    "    return sum(input1[i]*input2[i] for i in range(len(input1)))\n",
    "\n",
    "def TF_IDF_generator(input):\n",
    "    return_list = []\n",
    "    for i in xrange(len(input)):\n",
    "        if input[i]==0:\n",
    "            val = 0\n",
    "        else:\n",
    "            val = (math.log10(input[i])+1)* IDF_DICT[i]\n",
    "        return_list.append(val)\n",
    "    return return_list\n",
    "\n",
    "def normalizeByPlaylistLength(tf_idf_vector, playlist_length):\n",
    "    normalized_vec=[(value/float(playlist_length)) for value in tf_idf_vector]\n",
    "    return normalized_vec\n",
    "\n",
    "# calculating the user content based on the history\n",
    "def Calculate_content_based_score(username):\n",
    "    print username\n",
    "    historyList = []\n",
    "    user_group = groupedUsers.get_group(username)\n",
    "    #print user_group.Songs\n",
    "    Full_list = user_group.Songs.tolist()\n",
    "    content_start_index = len(Full_list)- int(math.ceil(split_ratio_train_test*len(Full_list)))\n",
    "    content_end_index  = content_start_index + int((split_ratio_train)* (math.ceil(split_ratio_train_test*len(Full_list))))\n",
    "    Train_list = Full_list[content_start_index:content_end_index]\n",
    "    #print Train_list\n",
    "    for tracks in Train_list:\n",
    "        tags_len = len(groupedSongs.get_group(tracks).Tags)\n",
    "        tags_list = groupedSongs.get_group(tracks).Tags.tolist()\n",
    "        historyListString =  str(tags_list[0]).split(\"$\")\n",
    "        historytempvec = []\n",
    "        for itr in historyListString:\n",
    "            historytempvec.append(int(itr))\n",
    "        historyList.append (historytempvec)\n",
    "    TF_IDF_vector_list=[]\n",
    "    for tag_vector in historyList:\n",
    "        TF_IDF_listvec = TF_IDF_generator(tag_vector)\n",
    "        TF_IDF_vector_list.append(TF_IDF_listvec)\n",
    "\n",
    "    TF_IDF_history = [sum(x) for x in zip(*TF_IDF_vector_list)]\n",
    "    UserList_normalized = normalizeByPlaylistLength(TF_IDF_history,len(Train_list))\n",
    "    UserList_normalized=normalizefunction(UserList_normalized)\n",
    "    ScoringDict = collections.defaultdict(list)\n",
    "    for allusers in groupsUsers.keys():\n",
    "        print allusers\n",
    "        if allusers == username:\n",
    "            continue\n",
    "        #print \"Printing the tracks for this user\"\n",
    "        for tracks in groupedUsers.get_group(allusers).Songs.tolist():\n",
    "            if tracks in ScoringDict:\n",
    "                continue\n",
    "            songtempvec = []\n",
    "            #tags_len = len(groupedSongs.get_group(tracks).Tags)\n",
    "            tags_list = groupedSongs.get_group(tracks).Tags.tolist()\n",
    "            songlistString =  str(tags_list[0]).split(\"$\")\n",
    "            for  index,itr in enumerate(songlistString):\n",
    "                  songtempvec.append(int(itr))\n",
    "            TF_IDF_songvec = TF_IDF_generator(songtempvec)\n",
    "            song_normalized = normalizefunction(TF_IDF_songvec)\n",
    "            scoring_val = cosinefunction(UserList_normalized, song_normalized)\n",
    "            ScoringDict[tracks]= scoring_val\n",
    "    reversesorteditems = sorted(ScoringDict.items(), key=operator.itemgetter(1), reverse=True)\n",
    "    count = 0\n",
    "    similar_neighbors=[]\n",
    "    similarity_scores=[]\n",
    "    for  items in reversesorteditems:\n",
    "        similar_neighbors.append(str(items[0]))\n",
    "        similarity_scores.append(str(items[1]))                       \n",
    "        count = count + 1\n",
    "    #return similarity_scores\n",
    "    return similar_neighbors, similarity_scores\n",
    "\n",
    "def calculate_for_all(userlist):\n",
    "    for allusers in userlist:\n",
    "        user_list = []\n",
    "        user_list.append(allusers)\n",
    "        #score_list = Calculate_content_based_score(allusers)\n",
    "        similar_neighbors,similarity_scores =  Calculate_content_based_score(allusers)\n",
    "        df = pd.DataFrame(data={\"Neighbours\": similar_neighbors, \"Similarities\": similarity_scores }, \n",
    "                 columns=[\"Neighbours\", \"Similarities\"])  \n",
    "        df.to_csv(str(allusers)+\"CONTENT_SIM.csv\", sep=',')\n",
    "calculate_for_all(_USER_LIST)\n",
    "print \"Content Based Similarity Scores Computed...\""
   ]
  },
  {
   "cell_type": "markdown",
   "metadata": {},
   "source": [
    "# 3. Numerical Features"
   ]
  },
  {
   "cell_type": "markdown",
   "metadata": {},
   "source": [
    "## 3A) Theory"
   ]
  },
  {
   "cell_type": "markdown",
   "metadata": {},
   "source": [
    "We have used track’s general popularity. The assumption of our scoring scheme for numerical values\n",
    "is that if a feature was actually relevant for the selection of tracks, the spread and variance of the values will be low. Given a history $h$ and a feature value $f_{t_{i}}$ for a track $t_{i}$ in the history, we therefore first compute the mean $\\mu$ and standard deviation σ of the observed values. If there are too few values available – some might be unknown – or the standard deviation exceeds some threshold δ, the score is 0. Otherwise, given the feature value $f^{*}_{t}$ for a target track\n",
    "$t^{*}$ we use the value of the probability density function of a Gaussian distribution as a score, where µ and σ are computed based on the value distributions in the history:\n",
    "\n",
    "$$score_{numfeature}(h, t^{*}) = \\dfrac{1}{\\sigma_{h}^{\\sqrt{2\\pi}}}  e^{- \\dfrac{(f^{*}_{t}-\\mu_{j})^2}{2\\sigma^{2}}}$$"
   ]
  },
  {
   "cell_type": "markdown",
   "metadata": {},
   "source": [
    "## 3B) Code"
   ]
  },
  {
   "cell_type": "code",
   "execution_count": 14,
   "metadata": {
    "collapsed": false
   },
   "outputs": [
    {
     "name": "stdout",
     "output_type": "stream",
     "text": [
      "monkeyhacker\n",
      "badboy495\n",
      "sonnycorleones\n",
      "heavydirtysoul_\n",
      "Garry_Drezden\n",
      "Numerical Features Scores Computed...\n"
     ]
    }
   ],
   "source": [
    "split_ratio_train_test = 0.8\n",
    "split_ratio_train = 0.2\n",
    "frame = pd.read_csv(_FILE_MAIN)\n",
    "frame.drop([\"Playtime\", \"Album\", \"Match\"], axis=1, inplace=\"True\")\n",
    "\n",
    "grouped1 = frame.groupby(by=\"Songs\")\n",
    "groups1 = grouped1.groups\n",
    "\n",
    "groupedusers =frame.groupby(by=\"Users\")\n",
    "groupsusers = groupedusers.groups\n",
    "\n",
    "groupedartist = frame.groupby(by='Artists')\n",
    "groupsartist = groupedartist.groups\n",
    "\n",
    "user_list=[]\n",
    "song_list=[]\n",
    "listener_count = []\n",
    "duration_count = []\n",
    "artist_list = []\n",
    "SongsList = []\n",
    "Artist_scoring_ratio = 0.2\n",
    "\n",
    "neighbours_list = []\n",
    "scores_list = []\n",
    "\n",
    "def calculate_numerical_val(num_feature, mean, variance):\n",
    "    return (1/math.sqrt(2*math.pi* variance))* math.exp(-1*(math.pow((num_feature-mean),2))/(2* variance))\n",
    "\n",
    "def numerical_feature_based_score(userlist):\n",
    "    for username in userlist:\n",
    "        print username\n",
    "        user_list = []\n",
    "        user_list.append(username)\n",
    "        historyList = []\n",
    "        user_group = groupedusers.get_group(username)\n",
    "        #print user_group.Songs\n",
    "        Full_list = user_group.Songs.tolist()\n",
    "        content_start_index = len(Full_list)- int(math.ceil(split_ratio_train_test*len(Full_list)))\n",
    "        content_end_index  = content_start_index + int((split_ratio_train)*(math.ceil(split_ratio_train_test*len(Full_list))))\n",
    "        Train_list = Full_list[content_start_index:content_end_index]\n",
    "        numlist = []\n",
    "        songdict = {}\n",
    "        for itr, row in groupedusers.get_group(username).iterrows():\n",
    "            if math.isnan(row[\"Playcount\"]):\n",
    "                numlist.append(0.0)\n",
    "            else:\n",
    "                numlist.append(row[\"Playcount\"])\n",
    "        mean_num = np.mean(numlist)\n",
    "        var_num = np.cov(numlist)   \n",
    "        for allusers in groupsusers.keys():\n",
    "            if allusers == username:\n",
    "                continue\n",
    "            for itr1,row1 in groupedusers.get_group(allusers).iterrows():\n",
    "                if math.isnan(row1[\"Playcount\"]):\n",
    "                    songdict[row1[\"Songs\"]] = calculate_numerical_val(0.0,mean_num,var_num)\n",
    "                else:\n",
    "                    songdict[row1[\"Songs\"]] = calculate_numerical_val(row1[\"Playcount\"],mean_num,var_num)\n",
    "        reversesorteditems = sorted(songdict.items(), key=operator.itemgetter(1), reverse=True)\n",
    "        count = 0\n",
    "        similar_neighbors=[]\n",
    "        similarity_scores=[]\n",
    "        for  items in reversesorteditems:\n",
    "            similar_neighbors.append(str(items[0]))\n",
    "            similarity_scores.append(str(items[1]))                       \n",
    "            count = count + 1\n",
    "#         scores_list = []\n",
    "#         neighbours_list = []\n",
    "#         neighbours_list.append(similar_neighbors)\n",
    "#         scores_list.append(similarity_scores)\n",
    "     \n",
    "        df = pd.DataFrame(data={\"Neighbours\": similar_neighbors, \"Similarities\": similarity_scores }, \n",
    "                 columns=[\"Neighbours\", \"Similarities\"])  \n",
    "        df.to_csv(str(username) + \"NUMERICAL_FEATURES.csv\", sep=',')\n",
    "numerical_feature_based_score(_USER_LIST)\n",
    "print \"Numerical Features Scores Computed...\""
   ]
  },
  {
   "cell_type": "markdown",
   "metadata": {},
   "source": [
    "# 4. Personal Preferences"
   ]
  },
  {
   "cell_type": "markdown",
   "metadata": {},
   "source": [
    "## 4A) Theory"
   ]
  },
  {
   "cell_type": "markdown",
   "metadata": {},
   "source": [
    "Personal preferences, e.g., regarding favorite artists, can influence what people add to their playlists. In our experiments we therefore also include an example of a personalized scoring scheme. We base the method on content features- tags. To build a “long-term” content-based profile for user u\n",
    "with the recent listening history h, we first compute an averaged TF-IDF vector $CP_{h}$ from entire histoory of  u. For a track $t^{*}$ with a corresponding TF-IDF vector $t_{*v}$, the personalized score ($score_{contentpers}$) is then based on a weighted combination of the similarity of $t^{*}$ with the current history $score_{content}(h, t^{*})$ and the similarity of $t_{∗v}$ with the long-term profile $CP_{h}$, i.e.\n",
    "$$score_{contentpers}(h, t^{*}) = \\alpha · score_{content}(h, t^{*}) + (1 − \\alpha) · sim_{cosine}(CP_{h}, t^{∗v})$$"
   ]
  },
  {
   "cell_type": "markdown",
   "metadata": {},
   "source": [
    "## 4B) Code"
   ]
  },
  {
   "cell_type": "code",
   "execution_count": null,
   "metadata": {
    "collapsed": true
   },
   "outputs": [],
   "source": [
    "split_ratio_train_test = 0.8\n",
    "split_ratio_train = 0.3\n",
    "user_list = []\n",
    "neighbours_list = []\n",
    "scores_list = [] \n",
    "Preference_factor = 0.4\n",
    "\n",
    "# reading the main File\n",
    "frame = pd.read_csv(_FILE_MAIN)\n",
    "frame.drop([\"Playtime\", \"Album\", \"Match\" , \"Listeners\", \"Playcount\", \"Duration\", \"Tags\"], axis=1, inplace=\"True\")\n",
    "\n",
    "# reading the tags related file:\n",
    "## Songs Based Scoring\n",
    "frameSong = pd.read_csv(_FILE_SONG_BOOL_TAGS)\n",
    "frameSong[\"Songs\"] = frame[\"Songs\"]\n",
    "groupedSongs = frameSong.groupby(by=\"Songs\")\n",
    "groupsSongs = groupedSongs.groups\n",
    "full_len = frameSong.shape[0]\n",
    "### Users based grouping \n",
    "groupedUsers = frame.groupby(by=\"Users\")\n",
    "groupsUsers=groupedUsers.groups\n",
    "\n",
    "# Using the dict for storing the IDF vector\n",
    "df_dict = pd.read_csv(_FILE_TAG_FREQ_FILE)\n",
    "IDF_DICT = [math.log10((full_len/df_dict['Frequency'][i])) for i in xrange(df_dict.shape[0])]\n",
    "\n",
    "def findmagnitude(input):\n",
    "    return math.sqrt(sum(input[i]*input[i] for i in range(len(input))))\n",
    "\n",
    "def normalizefunction(input):\n",
    "    listmagnitude =  findmagnitude(input)\n",
    "    if  listmagnitude == 0:\n",
    "        return  input\n",
    "    return [ float(input[i])/listmagnitude  for i in range(len(input)) ]\n",
    "\n",
    "def cosinefunction(input1, input2):\n",
    "    return sum(input1[i]*input2[i] for i in range(len(input1)))\n",
    "\n",
    "def TF_IDF_generator(input):\n",
    "    return_list = []\n",
    "    for i in xrange(len(input)):\n",
    "        if input[i]==0:\n",
    "            val = IDF_DICT[i]\n",
    "        else:\n",
    "            val = math.log10(input[i]+1)* IDF_DICT[i]\n",
    "        return_list.append(val)\n",
    "    return return_list\n",
    "\n",
    "def normalizeByPlaylistLength(tf_idf_vector, playlist_length):\n",
    "    normalized_vec=[(value/float(playlist_length)) for value in tf_idf_vector]\n",
    "    return normalized_vec\n",
    "\n",
    "# calculating the user content based on the history\n",
    "def User_preference_based_score(username):\n",
    "    historyList = []\n",
    "    historyFullList = []\n",
    "    user_group = groupedUsers.get_group(username)\n",
    "    #print user_group.Songs\n",
    "    Full_list_complete = user_group.Songs.tolist()\n",
    "    content_start_index = len(Full_list_complete)- int(math.ceil(split_ratio_train_test*len(Full_list_complete)))\n",
    "    Full_train_list = Full_list_complete[content_start_index:]\n",
    "    content_end_index  = content_start_index + int((split_ratio_train)* (math.ceil(split_ratio_train_test*len(Full_list_complete))))\n",
    "    Train_list = Full_list[content_start_index:content_end_index]\n",
    "    #print Train_list\n",
    "    for tracks in Train_list:\n",
    "        tags_len = len(groupedSongs.get_group(tracks).Tags)\n",
    "        tags_list = groupedSongs.get_group(tracks).Tags.tolist()\n",
    "        historyListString =  str(tags_list[0]).split(\"$\")\n",
    "        historytempvec = []\n",
    "        for itr in historyListString:\n",
    "            historytempvec.append(int(itr))\n",
    "        historyList.append (historytempvec)\n",
    "    for tracks in Full_train_list:\n",
    "        tags_len = len(groupedSongs.get_group(tracks).Tags)\n",
    "        tags_list = groupedSongs.get_group(tracks).Tags.tolist()\n",
    "        historyListFullString =  str(tags_list[0]).split(\"$\")\n",
    "        historyFulltempvec = []\n",
    "        for itr in historyFullListString:\n",
    "            historyFulltempvec.append(int(itr))\n",
    "        historyFullList.append (historyFulltempvec)\n",
    "    for tag_vector in historyList:\n",
    "        TF_IDF_listvec = TF_IDF_generator(tag_vector)\n",
    "        TF_IDF_vector_list.append(TF_IDF_listvec)\n",
    "\n",
    "    TF_IDF_history = [sum(x) for x in zip(*TF_IDF_vector_list)]\n",
    "    UserList_normalized = normalizeByPlaylistLength(TF_IDF_history,len(Train_list))\n",
    "    UserList_normalized=normalizefunction(UserList_normalized)\n",
    "\n",
    "    for tag_vector in historyFullList:\n",
    "        TF_IDF_listvec = TF_IDF_generator(tag_vector)\n",
    "        TF_IDF_vector_list.append(TF_IDF_listvec)\n",
    "\n",
    "    TF_IDF_history = [sum(x) for x in zip(*TF_IDF_vector_list)]\n",
    "    UserFullList_normalized = normalizeByPlaylistLength(TF_IDF_history,len(Train_list))\n",
    "    UserFullList_normalized=normalizefunction(UserFullList_normalized)\n",
    "    ScoringDict = collections.defaultdict(list)\n",
    "    for allusers in groupsUsers.keys():\n",
    "        print allusers\n",
    "        if allusers == username:\n",
    "            continue\n",
    "        for tracks in groupedUsers.get_group(allusers).Songs.tolist():\n",
    "             if tracks in ScoringDict:\n",
    "                 continue\n",
    "             songtempvec = []\n",
    "             tags_list = groupedSongs.get_group(tracks).Tags.tolist()\n",
    "             songlistString =  str(tags_list[0]).split(\"$\")\n",
    "             for  index,itr in enumerate(songlistString):\n",
    "                  songtempvec.append(int(itr))\n",
    "             TF_IDF_songvec = TF_IDF_generator(songtempvec)\n",
    "             song_normalized = normalizefunction(TF_IDF_songvec)\n",
    "             ScoringDict[tracks]= Preference_factor * cosinefunction(UserList_normalized, song_normalized)+ (1- Preference_factor)* cosinefunction(UserFullList_normalized, song_normalized)\n",
    "    \n",
    "    reversesorteditems = sorted(ScoringDict.items(), key=operator.itemgetter(1), reverse=True)\n",
    "    count = 0\n",
    "    similar_neighbors=[]\n",
    "    similarity_scores=[]\n",
    "    for  items in reversesorteditems:\n",
    "       if count == 300:\n",
    "           break\n",
    "       similar_neighbors.append(str(items[0]))\n",
    "       similarity_scores.append(str(items[1]))                         \n",
    "       count = count + 1      \n",
    "    return similar_neighbors, similarity_scores\n",
    "\n",
    "def calculate_for_all():\n",
    "    userlist = ['monkeyhacker','badboy495','sonnycorleones','heavydirtysoul_','Garry_Drezden']\n",
    "    for allusers in userlist:\n",
    "        user_list = []\n",
    "        user_list.append(allusers)\n",
    "        print \"Printing the length of the users\"\n",
    "        print allusers\n",
    "        print \"Ending the users\"\n",
    "        #score_list = Calculate_content_based_score(allusers)\n",
    "        neb_list,score_list =  User_preference_based_score(allusers)\n",
    "        neighbours_list = []\n",
    "        scores_list = []\n",
    "        neighbours_list.append(neb_list)\n",
    "        scores_list.append(score_list)\n",
    "        df = pd.DataFrame(\n",
    "    #data={\"Users\": user_list, \"Neighbours\": neighbours_list, \"Similarities\": scores_list },\n",
    "        data={\"Users\": user_list,\"Neighbours\": neighbours_list, \"Similarities\": scores_list },\n",
    "          columns=[\"Users\",\"Neighbours\" \"Similarities\"])\n",
    "        df.to_csv(str(allusers)+\"USER_PREF.csv\", sep=',')\n",
    "calculate_for_all()\n",
    "print \"Personal Preferences Scores Computed...\""
   ]
  },
  {
   "cell_type": "markdown",
   "metadata": {},
   "source": [
    "# 5. Artists History"
   ]
  },
  {
   "cell_type": "markdown",
   "metadata": {},
   "source": [
    "## 5A) Theory"
   ]
  },
  {
   "cell_type": "markdown",
   "metadata": {},
   "source": [
    "We can find playlists that contain tracks of only one single artist. If a history h has only one artist A, we apply an additional heuristic and compute a special artist score (AS) for tracks by A. As  described in the paper, we used a baseline AS value that is generally higher than the combined scores as computed of previous scores. This ensures that the playlist continuation starts with the “right” artist. The tracks of artist A are then sorted according to their popularity, and we use a position-based decay function that assigns a lower AS value to less popular tracks of the artist and apply a minimum popularity threshold. The tracks of the other artists receive the usual combined score."
   ]
  },
  {
   "cell_type": "markdown",
   "metadata": {},
   "source": [
    "## 5B) Code"
   ]
  },
  {
   "cell_type": "code",
   "execution_count": 11,
   "metadata": {
    "collapsed": false
   },
   "outputs": [
    {
     "name": "stdout",
     "output_type": "stream",
     "text": [
      "['monkeyhacker']\n",
      "['']\n",
      "['']\n",
      "['badboy495']\n",
      "['']\n",
      "['']\n",
      "['sonnycorleones']\n",
      "['']\n",
      "['']\n",
      "['heavydirtysoul_']\n",
      "['']\n",
      "['']\n",
      "['Garry_Drezden']\n",
      "['Tears in Heaven', 'Layla', 'Cocaine', 'Wonderful Tonight', 'Change The World', 'I Shot The Sheriff', 'Lay Down Sally', \"My Father's Eyes\", \"Knockin' On Heaven's Door\", 'Old Love', 'Running on Faith', 'Let It Grow', 'Before You Accuse Me', 'Promises', 'Let It Rain', 'Bad Love', 'Hey Hey', 'Forever Man', 'Lonely Stranger', 'San Francisco Bay Blues', \"Walkin' Blues\", 'Malted Milk', 'Sunshine Of Your Love', \"I Can't Stand It\", 'Badge', 'Layla (unplugged)', 'Blue Eyes Blue', 'Bell Bottom Blues', 'River of Tears', \"She's Waiting\", 'White Room', \"It's In The Way That You Use It\", 'Layla (Unplugged version)', \"Nobody Knows You When You're Down & Out\", 'Crossroads', 'Hello Old Friend', 'Riding With The King', 'If I Had Possession Over Judgement Day', 'Me and the Devil Blues', \"Nobody Knows You When You're Down and Out\", 'The Core', \"We're All The Way\", 'Autumn Leaves', 'Key To The Highway', 'Double Trouble', 'Worried Life Blues', 'Mainline Florida', 'Ten Long Years', 'Layla (Live)', 'Run Back To Your Side', 'Cajun Moon', 'Knock on Wood', \"Can't Let You Do It\", 'See What Love Can Do', 'Call Me The Breeze', 'Never Make You Cry', 'Someday (feat. Mark Knopfler)', 'Double Trouble (Live)', 'Mustang Sally', 'Lies (feat. John Mayer)', 'Rock And Roll Records (feat. Tom Petty)', 'Sensitive Kind (feat. Don White)', 'I Wanna Make Love to You', 'She\\xc2\\xb4s Waiting', 'Laydown Sally', 'Old Love (Live)', 'Christmas Tears - Live', 'I Shot The Sheriff (Live from Crossroads 2010)', 'Coca\\xc3\\xafne', 'Badget', 'Alberta']\n",
      "[3779199.0, 3247136.0, 2811226.0, 2544019.0, 1179012.0, 1166434.0, 853175.0, 737108.0, 610480.0, 566475.0, 541114.0, 513117.0, 497913.0, 487769.0, 458074.0, 432666.0, 402765.0, 401721.0, 385228.0, 353105.0, 318656.0, 306930.0, 288942.0, 282141.0, 279532.0, 276248.0, 271992.0, 271950.0, 260667.0, 254688.0, 254555.0, 240731.0, 231269.0, 225930.0, 213937.0, 198913.0, 167921.0, 149858.0, 139085.0, 136854.0, 116987.0, 116857.0, 111741.0, 85461.0, 80064.0, 74408.0, 73100.0, 49971.0, 46358.0, 43318.0, 30035.0, 27678.0, 23901.0, 22721.0, 20363.0, 18001.0, 13478.0, 12972.0, 12660.0, 11673.0, 9322.0, 7922.0, 7094.0, 3826.0, 3772.0, 3727.0, 3327.0, 2322.0, 1691.0, 1227.0, 0.0]\n"
     ]
    }
   ],
   "source": [
    "split_ratio_train_test = 0.8\n",
    "split_ratio_train = 0.2\n",
    "frame = pd.read_csv(_FILE_MAIN)\n",
    "frame.drop([\"Playtime\", \"Album\", \"Match\"], axis=1, inplace=\"True\")\n",
    "\n",
    "grouped1 = frame.groupby(by=\"Songs\")\n",
    "groups1 = grouped1.groups\n",
    "\n",
    "groupedusers =frame.groupby(by=\"Users\")\n",
    "groupsusers = groupedusers.groups\n",
    "\n",
    "groupedartist = frame.groupby(by='Artists')\n",
    "groupsartist = groupedartist.groups\n",
    "\n",
    "user_list=[]\n",
    "song_list=[]\n",
    "listener_count = []\n",
    "duration_count = []\n",
    "artist_list = []\n",
    "SongsList = []\n",
    "Artist_scoring_ratio = 0.2\n",
    "\n",
    "neighbours_list = []\n",
    "scores_list = []\n",
    "\n",
    "def artist_scoring_based_score(userlist):\n",
    "    for username in userlist:\n",
    "        songdict = {}\n",
    "        artist_list = []\n",
    "        user_list=[]\n",
    "        user_list.append(username)\n",
    "        user_group=groupedusers.get_group(username)\n",
    "        Full_list = user_group.Artists.tolist()\n",
    "        content_start_index = len(Full_list)- int(math.ceil(split_ratio_train_test*len(Full_list)))\n",
    "        content_end_index  = content_start_index + int((split_ratio_train)* (math.ceil(split_ratio_train_test*len(Full_list))))\n",
    "        Train_list = Full_list[content_start_index:content_end_index]\n",
    "        artist_list.extend(Full_list)\n",
    "        artist_dict = collections.Counter(artist_list)\n",
    "        similar_neighbors=[]\n",
    "        similarity_scores=[]\n",
    "        artist_name = max(artist_dict, key=artist_dict.get)\n",
    "        if artist_dict[artist_name] > Artist_scoring_ratio * len(artist_list):\n",
    "            for itr, row in groupedartist.get_group(artist_name).iterrows():\n",
    "                if math.isnan(row[\"Playcount\"]):\n",
    "                    songdict[row[\"Songs\"]] = 0.0\n",
    "                else:\n",
    "                    songdict[row[\"Songs\"]] = row[\"Playcount\"]\n",
    "            reversesorteditems = sorted(songdict.items(), key=operator.itemgetter(1), reverse=True)\n",
    "            count = 0\n",
    "\n",
    "            for  items in reversesorteditems:\n",
    "                similar_neighbors.append(str(items[0]))\n",
    "                similarity_scores.append(items[1])\n",
    "        else:\n",
    "                similar_neighbors.append(\"\")\n",
    "                similarity_scores.append(\"\")\n",
    "        print user_list\n",
    "        neighbours_list = []\n",
    "        scores_list = []\n",
    "        neighbours_list.append(similar_neighbors)\n",
    "        scores_list.append(similarity_scores)\n",
    "        df = pd.DataFrame(data={\"Users\": user_list, \"Neighbours\": neighbours_list, \"Similarities\": scores_list }, \n",
    "                 columns=[\"Users\", \"Neighbours\", \"Similarities\"]) \n",
    "        df.to_csv(str(username) + \"ARTIST_SCORE.csv\", sep=',')\n",
    "artist_scoring_based_score(_USER_LIST)\n",
    "print \"Artist History Scores Computed...\""
   ]
  },
  {
   "cell_type": "markdown",
   "metadata": {},
   "source": [
    "# 6. Combining the Scores"
   ]
  },
  {
   "cell_type": "markdown",
   "metadata": {},
   "source": [
    "## 6A) Theory\n",
    "Depending on the available data, various combinations of scores of different types can be used. As per the paper, we tested different configurations using a weighted scoring scheme. Given a set of scoring functions S, the score is \n",
    "\n",
    "$$score_{overall}(h, t^{*}) = \\Sigma_{score_{i}\\epsilon S}score_{i}(h, t^{*}) * w_{i}$$ \n",
    "\n",
    "where $w_{i}$ is a configurable weight term for each $score_{i}\\epsilon S$. The selection of the scores as well as their corresponding weights depend on the goals that should be achieved. We tested different values for the weight of each score and selected the best ones (listed below) with respect to accuracy. The weights are in accordance with the paper.\n",
    "\n",
    "<table>\n",
    "<tr><td>Scoring</td><td>Weight</td></tr>\n",
    "<tr><td>kNN300</td><td>1.0</td></tr>\n",
    "<tr><td>ART=single-artist heuristic</td><td>4.0</td></tr>\n",
    "<tr><td>CP=ContentPers.</td><td>0.3, $\\alpha$=0.6</td></tr>\n",
    "\n",
    "</table>"
   ]
  },
  {
   "cell_type": "markdown",
   "metadata": {},
   "source": [
    "## 6B) Code"
   ]
  },
  {
   "cell_type": "code",
   "execution_count": null,
   "metadata": {
    "collapsed": true
   },
   "outputs": [],
   "source": []
  },
  {
   "cell_type": "markdown",
   "metadata": {},
   "source": [
    "# 7. Next track optimiztion"
   ]
  },
  {
   "cell_type": "markdown",
   "metadata": {},
   "source": [
    "## 7A) Theory"
   ]
  },
  {
   "cell_type": "markdown",
   "metadata": {},
   "source": []
  },
  {
   "cell_type": "markdown",
   "metadata": {},
   "source": [
    "## 7B) Code"
   ]
  },
  {
   "cell_type": "code",
   "execution_count": null,
   "metadata": {
    "collapsed": true
   },
   "outputs": [],
   "source": []
  },
  {
   "cell_type": "markdown",
   "metadata": {
    "collapsed": true
   },
   "source": [
    "# Evaluation of Faceted Track Scoring\n",
    "**Accuracy and MRR**  \n",
    "Hit Rate: We compare the hidden user playlist and the suggested playlist. 20 percent of the user playlist is hidden. and we suggest 100. Let's say we 10 songs are hidden and there are 5 of the hidden songs in suggested songs then accuracy is 5/10=0.5. We report the average of the accuracy for all the users.\n",
    "\n",
    "**Diversity and Coherence - Tags**  \n",
    "Inverse Intra List Similarity (ILS): Intra List Similarity is the sum of the pairwise similarity cosine of TF-IDF vectors of the songs in the suggested songlist by the algorithm. Inverse ILS is the reciprocal of ILS. \n",
    "Tags Overlap: This is the Jaccard similarity measure of the set of tags of user playlist and set of tags of suggested playlist.\n",
    "\n",
    "**Diversity and Coherence - Artist**  \n",
    "Artists Overlap: This is the Jaccard similarity measure of the set of artists of user playlist and set of artists of suggested playlist.  \n",
    "\n",
    "**Diversity and Coherence - Numerical Features Method**  \n",
    "Differences in mean and SD:"
   ]
  },
  {
   "cell_type": "code",
   "execution_count": null,
   "metadata": {
    "collapsed": true
   },
   "outputs": [],
   "source": []
  }
 ],
 "metadata": {
  "anaconda-cloud": {},
  "kernelspec": {
   "display_name": "Python 2",
   "language": "python",
   "name": "python2"
  },
  "language_info": {
   "codemirror_mode": {
    "name": "ipython",
    "version": 2
   },
   "file_extension": ".py",
   "mimetype": "text/x-python",
   "name": "python",
   "nbconvert_exporter": "python",
   "pygments_lexer": "ipython2",
   "version": "2.7.12"
  }
 },
 "nbformat": 4,
 "nbformat_minor": 2
}
